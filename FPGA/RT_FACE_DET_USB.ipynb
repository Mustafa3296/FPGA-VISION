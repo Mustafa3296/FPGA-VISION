{
 "cells": [
  {
   "cell_type": "code",
   "execution_count": 45,
   "metadata": {},
   "outputs": [],
   "source": [
    "# Load filter2D + dilate overlay\n",
    "from pynq import Overlay\n",
    "bareHDMI = Overlay(\"/usr/local/lib/python3.6/dist-packages/\"\n",
    "               \"pynq_cv/overlays/xv2Filter2DDilate.bit\")\n",
    "import pynq_cv.overlays.xv2Filter2DDilate as xv2\n",
    "\n",
    "# Load xlnk memory mangager\n",
    "from pynq import Xlnk\n",
    "Xlnk.set_allocator_library(\"/usr/local/lib/python3.6/dist-packages/\"\n",
    "                           \"pynq_cv/overlays/xv2Filter2DDilate.so\")\n",
    "mem_manager = Xlnk()\n",
    "\n",
    "#hdmi_in = bareHDMI.video.hdmi_in\n",
    "hdmi_out = bareHDMI.video.hdmi_out"
   ]
  },
  {
   "cell_type": "code",
   "execution_count": 46,
   "metadata": {},
   "outputs": [],
   "source": [
    "from pynq.lib.video import *\n",
    "Mode = VideoMode(640,480,24)\n",
    "hdmi_out.configure(Mode,PIXEL_BGR)\n",
    "hdmi_out.start()\n",
    "\n",
    "# monitor (output) frame buffer size\n",
    "frame_out_w = 1920\n",
    "frame_out_h = 1080\n",
    "# camera (input) configuration\n",
    "frame_in_w = 640\n",
    "frame_in_h = 480"
   ]
  },
  {
   "cell_type": "code",
   "execution_count": 47,
   "metadata": {},
   "outputs": [
    {
     "name": "stdout",
     "output_type": "stream",
     "text": [
      "capture device is open: True\n"
     ]
    }
   ],
   "source": [
    "import cv2\n",
    "import numpy as np\n",
    "\n",
    "videoIn = cv2.VideoCapture(-1)\n",
    "videoIn.set(cv2.CAP_PROP_FRAME_WIDTH, frame_in_w);\n",
    "videoIn.set(cv2.CAP_PROP_FRAME_HEIGHT, frame_in_h);\n",
    "\n",
    "print(\"capture device is open: \" + str(videoIn.isOpened()))\n",
    "#frame_1080p = np.zeros((1080,1920,3)).astype(np.uint8)\n",
    "ret, reference = videoIn.read()\n",
    "reference_grey = cv2.cvtColor(reference, cv2.COLOR_BGR2GRAY)\n",
    "reference_blur = cv2.GaussianBlur(reference_grey, (5, 5), 0)\n",
    "\n",
    "#frame_1080p[0:480,0:640,:] = reference[0:480,0:640,:]\n",
    "#hdmi_out.writeframe(reference)"
   ]
  },
  {
   "cell_type": "code",
   "execution_count": 19,
   "metadata": {},
   "outputs": [
    {
     "data": {
      "text/plain": [
       "array([[[ 68,  88, 113],\n",
       "        [144, 162, 185],\n",
       "        [193, 211, 228],\n",
       "        ..., \n",
       "        [219, 211, 211],\n",
       "        [221, 211, 211],\n",
       "        [220, 210, 210]],\n",
       "\n",
       "       [[ 69,  86, 112],\n",
       "        [142, 158, 181],\n",
       "        [192, 208, 225],\n",
       "        ..., \n",
       "        [216, 206, 206],\n",
       "        [215, 205, 205],\n",
       "        [217, 205, 205]],\n",
       "\n",
       "       [[ 72,  85, 111],\n",
       "        [139, 151, 175],\n",
       "        [189, 203, 221],\n",
       "        ..., \n",
       "        [214, 202, 202],\n",
       "        [213, 201, 201],\n",
       "        [214, 200, 201]],\n",
       "\n",
       "       ..., \n",
       "       [[157, 146, 138],\n",
       "        [156, 145, 137],\n",
       "        [155, 144, 136],\n",
       "        ..., \n",
       "        [240, 240, 240],\n",
       "        [240, 240, 240],\n",
       "        [240, 240, 240]],\n",
       "\n",
       "       [[157, 147, 137],\n",
       "        [156, 146, 136],\n",
       "        [155, 145, 135],\n",
       "        ..., \n",
       "        [240, 240, 240],\n",
       "        [240, 240, 240],\n",
       "        [240, 240, 240]],\n",
       "\n",
       "       [[157, 147, 137],\n",
       "        [156, 146, 136],\n",
       "        [155, 145, 135],\n",
       "        ..., \n",
       "        [240, 240, 240],\n",
       "        [240, 240, 240],\n",
       "        [240, 240, 240]]], dtype=uint8)"
      ]
     },
     "execution_count": 19,
     "metadata": {},
     "output_type": "execute_result"
    }
   ],
   "source": []
  },
  {
   "cell_type": "code",
   "execution_count": 48,
   "metadata": {},
   "outputs": [],
   "source": [
    "\n",
    "outframe = hdmi_out.newframe()\n",
    "outframe[0:480,0:640,:] = reference[0:480,0:640,:]\n",
    "hdmi_out.writeframe(outframe)"
   ]
  },
  {
   "cell_type": "code",
   "execution_count": 49,
   "metadata": {},
   "outputs": [
    {
     "name": "stdout",
     "output_type": "stream",
     "text": [
      "Frames per second:  10.97609637442543\n"
     ]
    }
   ],
   "source": [
    "import time\n",
    "\n",
    "outframe = hdmi_out.newframe()\n",
    "numframes = 2000    \n",
    "kernelVoid = np.zeros(0)\n",
    "\n",
    "start = time.time()    \n",
    "for _ in range(numframes):\n",
    "    ret, frame_vga = videoIn.read()\n",
    "\n",
    "    if (ret):\n",
    "       \n",
    "        grey = cv2.cvtColor(frame_vga, cv2.COLOR_BGR2GRAY)\n",
    "        blur = cv2.GaussianBlur(grey, (5, 5), 0)\n",
    "        difference = cv2.absdiff(reference_blur, blur)\n",
    "        threshold = cv2.threshold(difference, 85, 255, cv2.THRESH_BINARY)[1]\n",
    "        dilated = cv2.dilate(threshold, kernelVoid, iterations=2)\n",
    "        _, contours, hier = cv2.findContours(dilated.copy(), cv2.RETR_EXTERNAL, cv2.CHAIN_APPROX_SIMPLE)\n",
    "        for i in contours:\n",
    "            contourArea = cv2.contourArea(i)\n",
    "            if contourArea < 17500 or contourArea > 35000:\n",
    "                continue\n",
    "            (x, y, w, h) = cv2.boundingRect(i)\n",
    "           \n",
    "            cv2.rectangle(frame_vga, (x, y), (x + w, y + h), (0, 0, 255), 2) \n",
    "            outframe[0:480,0:640,:] = frame_vga[0:480,0:640,:]\n",
    "            hdmi_out.writeframe(outframe) \n",
    "            #print(\"after out frame\")\n",
    "end = time.time()\n",
    "print(\"Frames per second:  \" + str(numframes / (end - start)))\n",
    "hdmi_out.close()\n",
    "videoIn.release()"
   ]
  },
  {
   "cell_type": "code",
   "execution_count": 46,
   "metadata": {},
   "outputs": [],
   "source": []
  },
  {
   "cell_type": "code",
   "execution_count": 5,
   "metadata": {},
   "outputs": [
    {
     "name": "stdout",
     "output_type": "stream",
     "text": [
      "Frames per second:  2.1918136134859654\n"
     ]
    }
   ],
   "source": []
  },
  {
   "cell_type": "code",
   "execution_count": null,
   "metadata": {},
   "outputs": [],
   "source": []
  }
 ],
 "metadata": {
  "kernelspec": {
   "display_name": "Python 3",
   "language": "python",
   "name": "python3"
  },
  "language_info": {
   "codemirror_mode": {
    "name": "ipython",
    "version": 3
   },
   "file_extension": ".py",
   "mimetype": "text/x-python",
   "name": "python",
   "nbconvert_exporter": "python",
   "pygments_lexer": "ipython3",
   "version": "3.6.5"
  }
 },
 "nbformat": 4,
 "nbformat_minor": 2
}
