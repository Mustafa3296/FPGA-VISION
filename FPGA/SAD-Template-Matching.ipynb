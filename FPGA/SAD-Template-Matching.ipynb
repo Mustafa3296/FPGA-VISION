{
 "cells": [
  {
   "cell_type": "code",
   "execution_count": 1,
   "metadata": {},
   "outputs": [],
   "source": [
    "import sys\n",
    "import time \n",
    "sys.path.insert(0, '/home/xilinx/PYNQ-HLS-VISION/tutorial/')"
   ]
  },
  {
   "cell_type": "code",
   "execution_count": 2,
   "metadata": {
    "scrolled": false
   },
   "outputs": [
    {
     "data": {
      "application/javascript": [
       "\n",
       "require(['notebook/js/codecell'], function(codecell) {\n",
       "  codecell.CodeCell.options_default.highlight_modes[\n",
       "      'magic_text/x-csrc'] = {'reg':[/^%%microblaze/]};\n",
       "  Jupyter.notebook.events.one('kernel_ready.Kernel', function(){\n",
       "      Jupyter.notebook.get_cells().map(function(cell){\n",
       "          if (cell.cell_type == 'code'){ cell.auto_highlight(); } }) ;\n",
       "  });\n",
       "});\n"
      ]
     },
     "metadata": {},
     "output_type": "display_data"
    }
   ],
   "source": [
    "from pynqhls.stream import streamOverlay\n",
    "overlay = streamOverlay('/home/xilinx/PYNQ-HLS-VISION/tutorial/pynqhls/stream/stream.bit')"
   ]
  },
  {
   "cell_type": "code",
   "execution_count": 3,
   "metadata": {},
   "outputs": [],
   "source": [
    "from PIL import Image\n",
    "temp = Image.open(\"/home/xilinx/PYNQ-HLS-VISION/tutorial/pictures/temp_100x100.jpg\")\n",
    "im = Image.open(\"/home/xilinx/PYNQ-HLS-VISION/tutorial/pictures/Checkerboard_200x200.jpg\")"
   ]
  },
  {
   "cell_type": "code",
   "execution_count": 4,
   "metadata": {},
   "outputs": [
    {
     "data": {
      "image/png": "[encoded data removed]",
      "text/plain": [
       "<PIL.JpegImagePlugin.JpegImageFile image mode=RGB size=200x200 at 0x354C7550>"
      ]
     },
     "execution_count": 4,
     "metadata": {},
     "output_type": "execute_result"
    }
   ],
   "source": [
    "im"
   ]
  },
  {
   "cell_type": "code",
   "execution_count": 5,
   "metadata": {},
   "outputs": [
    {
     "data": {
      "image/png": "[encoded data removed]",
      "text/plain": [
       "<PIL.JpegImagePlugin.JpegImageFile image mode=RGB size=100x100 at 0x316DEF30>"
      ]
     },
     "execution_count": 5,
     "metadata": {},
     "output_type": "execute_result"
    }
   ],
   "source": [
    "temp"
   ]
  },
  {
   "cell_type": "code",
   "execution_count": 6,
   "metadata": {},
   "outputs": [],
   "source": [
    "#size of tmphei * tmpwid + inhei * inwid * 4 = (100x100 + 200x200) * 4 (each pixel requires 3 bytes RGB)\n",
    "in_arg = bytearray(50000*4) \n",
    "#print(in_arg[0]) used to determine init values (0)\n",
    "\n",
    "#temp = Image.open('temp_100x100.jpg') # Can be many different formats.\n",
    "pix = temp.load()\n",
    "\n",
    "rowst, colst = temp.size\n",
    "#preproc temp\n",
    "for y in range(0,rowst):\n",
    "    for x in range (0,colst):\n",
    "        idx = y * 100 + x # 2D index to 1D index \n",
    "        idx = idx * 4 # each idx represents a 4 byte integer\n",
    "        # Set the RGB Values (4 bytes Little-Endian)\n",
    "        r = pix[y,x][0]\n",
    "        g = pix[y,x][1]\n",
    "        b = pix[y,x][2]\n",
    "        in_arg[idx] = r #RED \n",
    "        in_arg[idx+1] = g #GREEN\n",
    "        in_arg[idx+2] = b #BLUE\n",
    "        \n",
    "        #print(idx)\n",
    "\n",
    "\n",
    "\n",
    "#print(temp.size)  # Get the width and height of the image for iterating over\n",
    "#print(pix[0,0])  # Get the RGBA Value of the a pixel of an image\n",
    "#print(pix[0,1])\n",
    "\n",
    "\n",
    "#print(in_arg[0], in_arg[1], in_arg[2], in_arg[3])\n",
    "#print(in_arg[4], in_arg[5], in_arg[6], in_arg[7])\n",
    "\n",
    "\n",
    "#im.save('500x500-RGB.png')  # Save the modified pixels as .png\n",
    "\n",
    "#im = Image.open('Checkerboard_200x200.jpg') # Can be many different formats.\n",
    "pix = im.load()\n",
    "offset = 40000 #100x100 template occupies 40000 bytes (4 bytes for RGB value)\n",
    "    \n",
    "rowss, colss = im.size\n",
    "    \n",
    "for y in range(0, rowss):\n",
    "    for x in range (0,colss):\n",
    "        idx = y * 200 + x # 2D index to 1D index \n",
    "        idx = idx * 4 # each idx represents a 4 byte integer\n",
    "        idx = idx + offset\n",
    "        # Set the RGB Values (4 bytes Little-Endian)\n",
    "        r = pix[y,x][0]\n",
    "        g = pix[y,x][1]\n",
    "        b = pix[y,x][2]\n",
    "        in_arg[idx] = r #RED \n",
    "        in_arg[idx+1] = g #GREEN\n",
    "        in_arg[idx+2] = b #BLUE\n",
    "    ''' FOR DEBUG\n",
    "            if(x == 150 and y == 150):\n",
    "                print(in_arg[idx+3])\n",
    "                print(idx+3)\n",
    "    print(idx) \n",
    "    '''\n",
    "\n",
    "\n",
    "\n",
    "#print(im.size)  # Get the width and height of the image for iterating over\n",
    "#print(pix[0,0])  # Get the RGBA Value of the a pixel of an image\n",
    "#print(pix[0,1])\n",
    "#print(pix[150,75])\n",
    "\n",
    "#print(in_arg[offset], in_arg[offset+1], in_arg[offset+2], in_arg[offset+3])\n",
    "#print(in_arg[offset+4], in_arg[offset+5], in_arg[offset+6], in_arg[offset+7])\n",
    "#print(in_arg[30074*4+offset], in_arg[30074*4+offset+1], in_arg[30074*4+offset+2], in_arg[30074*4+offset+3])\n",
    "\n",
    "#return in_arg\n",
    "\n",
    "#in_arg = list(in_arg)\n"
   ]
  },
  {
   "cell_type": "code",
   "execution_count": 7,
   "metadata": {},
   "outputs": [],
   "source": [
    "\n",
    "import time \n",
    "\n",
    "coeffs = [0, 0, -1, -2, 0, 2, 1, 0, 0]\n"
   ]
  },
  {
   "cell_type": "code",
   "execution_count": 8,
   "metadata": {
    "scrolled": false
   },
   "outputs": [
    {
     "name": "stdout",
     "output_type": "stream",
     "text": [
      "Elapsed time: 41.09322953224182\n"
     ]
    }
   ],
   "source": [
    "\n",
    "t0 = time.time()\n",
    "\n",
    "output = overlay.run(coeffs, in_arg)\n",
    "\n",
    "tf= time.time()\n",
    "\n",
    "print(\"Elapsed time: \" + str(tf-t0))"
   ]
  },
  {
   "cell_type": "code",
   "execution_count": 9,
   "metadata": {},
   "outputs": [],
   "source": [
    "pix_matches = bytearray(400000*4)\n",
    "\n",
    "found = 0 \n",
    "i = 0 \n",
    "for a in output:\n",
    "    if a == 1:\n",
    "        found+= 1\n",
    "        #print(i)\n",
    "        pix_matches[i*4] = 1\n",
    "    i+= 1\n",
    "#print(found)"
   ]
  },
  {
   "cell_type": "code",
   "execution_count": 10,
   "metadata": {},
   "outputs": [],
   "source": [
    "    rows, cols = im.size\n",
    "    #print(rows,cols)\n",
    "    count = 0 \n",
    "    for i in range(rows):\n",
    "        for j in range(cols):\n",
    "            idx = i * cols + j \n",
    "            idx*= 4 #4 bytes per pixel / binary candidacy\n",
    "            #print(pix_matches[idx])\n",
    "            if pix_matches[idx] == 1: \n",
    "                #count+= 1\n",
    "                #print(count)\n",
    "                #print(i,j)\n",
    "                z = i - 100 \n",
    "                if z < 0:\n",
    "                    z = 0 \n",
    "                while z < (i):\n",
    "                    y = j - 100 \n",
    "                    if y < 0:\n",
    "                        y = 0 \n",
    "                    while y < (j):\n",
    "                            #print(z,y)\n",
    "                            #print(\"red\", i,j)\n",
    "                            pix[z,y] = (255,0,0) \n",
    "                            y+=1\n",
    "                    #print(z)\n",
    "                    z+=1\n",
    "    im.save(\"TEMPED_SRC.png\")"
   ]
  },
  {
   "cell_type": "code",
   "execution_count": 11,
   "metadata": {},
   "outputs": [
    {
     "data": {
      "image/png": "[encoded data removed]",
      "text/plain": [
       "<PIL.PngImagePlugin.PngImageFile image mode=RGB size=200x200 at 0x316DEF70>"
      ]
     },
     "execution_count": 11,
     "metadata": {},
     "output_type": "execute_result"
    }
   ],
   "source": [
    "matched = Image.open(\"TEMPED_SRC.png\")\n",
    "matched"
   ]
  },
  {
   "cell_type": "code",
   "execution_count": 16,
   "metadata": {},
   "outputs": [
    {
     "name": "stdout",
     "output_type": "stream",
     "text": [
      "78796\n",
      "79596\n",
      "79600\n",
      "80396\n",
      "159996\n",
      "5\n"
     ]
    }
   ],
   "source": [
    "found = 0 \n",
    "i = 0 \n",
    "for a in pix_matches:\n",
    "    if a == 1:\n",
    "        found+= 1\n",
    "        print(i)\n",
    "    i+= 1\n",
    "print(found)"
   ]
  },
  {
   "cell_type": "code",
   "execution_count": null,
   "metadata": {},
   "outputs": [],
   "source": []
  }
 ],
 "metadata": {
  "kernelspec": {
   "display_name": "Python 3",
   "language": "python",
   "name": "python3"
  },
  "language_info": {
   "codemirror_mode": {
    "name": "ipython",
    "version": 3
   },
   "file_extension": ".py",
   "mimetype": "text/x-python",
   "name": "python",
   "nbconvert_exporter": "python",
   "pygments_lexer": "ipython3",
   "version": "3.6.0"
  }
 },
 "nbformat": 4,
 "nbformat_minor": 2
}
